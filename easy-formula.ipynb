{
 "cells": [
  {
   "cell_type": "markdown",
   "metadata": {},
   "source": [
    "# tensorflowで簡単な計算式を書く"
   ]
  },
  {
   "cell_type": "code",
   "execution_count": 3,
   "metadata": {},
   "outputs": [],
   "source": [
    "import tensorflow as tf  #tensorflowを読み込み"
   ]
  },
  {
   "cell_type": "markdown",
   "metadata": {},
   "source": [
    "$$\n",
    "\\begin{eqnarray}\n",
    "    y = x^2 + b\n",
    "\\end{eqnarray}\n",
    "$$"
   ]
  },
  {
   "cell_type": "code",
   "execution_count": 7,
   "metadata": {},
   "outputs": [],
   "source": [
    "def formula1(x, b):\n",
    "    _x = tf.constant(x)\n",
    "    _b = tf.constant(b)\n",
    "    xx = tf.square(_x)\n",
    "    result = tf.add(xx, _b)\n",
    "    return result"
   ]
  },
  {
   "cell_type": "markdown",
   "metadata": {},
   "source": [
    "**tf.constant** は、tensorflowにおける**定数**を表す."
   ]
  },
  {
   "cell_type": "code",
   "execution_count": 12,
   "metadata": {},
   "outputs": [
    {
     "name": "stdout",
     "output_type": "stream",
     "text": [
      "[7.0]\n"
     ]
    }
   ],
   "source": [
    "with tf.Session() as sess:\n",
    "    result = sess.run([formula1(2.0, 3.0)])\n",
    "    print (result)"
   ]
  },
  {
   "cell_type": "markdown",
   "metadata": {},
   "source": [
    "引数を「**placeholder**」という形で与えることもできる。<br>\n",
    "「**placeholder**」とは、**データが格納される予定地**のこと。<br>\n",
    "データは定まっていない状態でグラフを構築、具体的な値は実行する時に与えられる。\n",
    "「**placeholder**」を使う場面として、ファイルから読み込んだデータをグラフに与えて処理する場合などがある。\n",
    "\n",
    "**placeholder**には、**Session**の実行時に**feed_dict**を実行して、値を渡す。"
   ]
  },
  {
   "cell_type": "code",
   "execution_count": 18,
   "metadata": {},
   "outputs": [
    {
     "name": "stdout",
     "output_type": "stream",
     "text": [
      "[array([ 7.], dtype=float32)]\n"
     ]
    }
   ],
   "source": [
    "p_x = tf.placeholder(tf.float32)\n",
    "p_b = tf.placeholder(tf.float32)\n",
    "formula2 = tf.add(tf.square(p_x), p_b)\n",
    "\n",
    "with tf.Session() as sess:\n",
    "    result = sess.run([formula2], feed_dict={p_x: [2.], p_b: [3.]})\n",
    "    print(result)"
   ]
  },
  {
   "cell_type": "markdown",
   "metadata": {},
   "source": []
  }
 ],
 "metadata": {
  "kernelspec": {
   "display_name": "Python 3",
   "language": "python",
   "name": "python3"
  },
  "language_info": {
   "codemirror_mode": {
    "name": "ipython",
    "version": 3
   },
   "file_extension": ".py",
   "mimetype": "text/x-python",
   "name": "python",
   "nbconvert_exporter": "python",
   "pygments_lexer": "ipython3",
   "version": "3.5.2"
  }
 },
 "nbformat": 4,
 "nbformat_minor": 2
}
